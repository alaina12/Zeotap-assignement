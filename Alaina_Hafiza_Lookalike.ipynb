{
 "cells": [
  {
   "cell_type": "code",
   "execution_count": 1,
   "id": "70224a4e",
   "metadata": {},
   "outputs": [],
   "source": [
    "# Importing all required libraries\n",
    "import pandas as pd\n",
    "import numpy as np\n",
    "from sklearn.preprocessing import StandardScaler\n",
    "from sklearn.metrics.pairwise import cosine_similarity\n"
   ]
  },
  {
   "cell_type": "code",
   "execution_count": 2,
   "id": "2f9180c6",
   "metadata": {},
   "outputs": [],
   "source": [
    "# Loading the datasets\n",
    "customers = pd.read_csv(\"Customers.csv\")\n",
    "products = pd.read_csv(\"Products.csv\")\n",
    "transactions = pd.read_csv(\"Transactions.csv\")"
   ]
  },
  {
   "cell_type": "code",
   "execution_count": 3,
   "id": "bc64d82f",
   "metadata": {},
   "outputs": [],
   "source": [
    "#  Merging the datasets\n",
    "merged = transactions.merge(customers, on=\"CustomerID\").merge(products, on=\"ProductID\")\n"
   ]
  },
  {
   "cell_type": "code",
   "execution_count": 4,
   "id": "581308f8",
   "metadata": {},
   "outputs": [],
   "source": [
    "# Feature engineering: Aggregating customer transaction data\n",
    "customer_features = merged.groupby(\"CustomerID\").agg({\n",
    "    'TotalValue': 'sum',\n",
    "    'Quantity': 'sum',\n",
    "    'TransactionID': 'count',  # Frequency\n",
    "    'Category': 'nunique',     # Unique categories purchased\n",
    "}).rename(columns={\n",
    "    'TotalValue': 'TotalSpending',\n",
    "    'Quantity': 'TotalQuantity',\n",
    "    'TransactionID': 'TransactionFrequency',\n",
    "    'Category': 'UniqueCategories'\n",
    "}).reset_index()"
   ]
  },
  {
   "cell_type": "code",
   "execution_count": 5,
   "id": "f0c5e455",
   "metadata": {},
   "outputs": [],
   "source": [
    "# Adding customer profile data (Region)\n",
    "customer_features = customer_features.merge(customers[['CustomerID', 'Region']], on=\"CustomerID\")\n"
   ]
  },
  {
   "cell_type": "code",
   "execution_count": 6,
   "id": "37467b25",
   "metadata": {},
   "outputs": [],
   "source": [
    "# One-hot encoding for categorical variables (e.g., Region)\n",
    "customer_features = pd.get_dummies(customer_features, columns=['Region'])"
   ]
  },
  {
   "cell_type": "code",
   "execution_count": 7,
   "id": "7e0a9bbd",
   "metadata": {},
   "outputs": [],
   "source": [
    "# Normalizing numerical features\n",
    "scaler = StandardScaler()\n",
    "numerical_cols = ['TotalSpending', 'TotalQuantity', 'TransactionFrequency', 'UniqueCategories']\n",
    "customer_features[numerical_cols] = scaler.fit_transform(customer_features[numerical_cols])\n"
   ]
  },
  {
   "cell_type": "code",
   "execution_count": 8,
   "id": "6410932b",
   "metadata": {},
   "outputs": [],
   "source": [
    "# Compute pairwise similarity using cosine similarity\n",
    "customer_ids = customer_features['CustomerID']\n",
    "features = customer_features.drop(columns=['CustomerID'])\n",
    "similarity_matrix = cosine_similarity(features)"
   ]
  },
  {
   "cell_type": "code",
   "execution_count": 9,
   "id": "c6de0447",
   "metadata": {},
   "outputs": [],
   "source": [
    "# Recommending top 3 lookalikes for each customer in C0001 - C0020\n",
    "lookalikes = {}\n",
    "for i, cust_id in enumerate(customer_ids[:20]):  # First 20 customers\n",
    "    similarity_scores = list(enumerate(similarity_matrix[i]))\n",
    "    similarity_scores = sorted(similarity_scores, key=lambda x: x[1], reverse=True)\n",
    "    top_3 = [(customer_ids[j], score) for j, score in similarity_scores[1:4]]  # Skip self (index 0)\n",
    "    lookalikes[cust_id] = top_3"
   ]
  },
  {
   "cell_type": "code",
   "execution_count": 10,
   "id": "9d51a7ec",
   "metadata": {},
   "outputs": [],
   "source": [
    "lookalike_df = pd.DataFrame({\n",
    "    \"CustomerID\": lookalikes.keys(),\n",
    "    \"Lookalikes\": [str(lookalikes[cust]) for cust in lookalikes]\n",
    "})"
   ]
  },
  {
   "cell_type": "code",
   "execution_count": 11,
   "id": "86cdfa98",
   "metadata": {},
   "outputs": [],
   "source": [
    "# Save to CSV\n",
    "lookalike_df.to_csv(\"Alaina_Hafiza_Lookalike.csv\", index=False)\n"
   ]
  },
  {
   "cell_type": "code",
   "execution_count": 12,
   "id": "fea21110",
   "metadata": {},
   "outputs": [
    {
     "name": "stdout",
     "output_type": "stream",
     "text": [
      "  CustomerID                                         Lookalikes\n",
      "0      C0001  [('C0107', 0.989623839001654), ('C0174', 0.971...\n",
      "1      C0002  [('C0142', 0.9907053654945355), ('C0159', 0.95...\n",
      "2      C0003  [('C0174', 0.8818652346061687), ('C0031', 0.84...\n",
      "3      C0004  [('C0165', 0.9852902527327856), ('C0012', 0.97...\n",
      "4      C0005  [('C0186', 0.9978532023250041), ('C0159', 0.99...\n"
     ]
    }
   ],
   "source": [
    "# Printing example output\n",
    "print(lookalike_df.head())"
   ]
  },
  {
   "cell_type": "code",
   "execution_count": null,
   "id": "31e5154b",
   "metadata": {},
   "outputs": [],
   "source": []
  }
 ],
 "metadata": {
  "kernelspec": {
   "display_name": "Python 3 (ipykernel)",
   "language": "python",
   "name": "python3"
  },
  "language_info": {
   "codemirror_mode": {
    "name": "ipython",
    "version": 3
   },
   "file_extension": ".py",
   "mimetype": "text/x-python",
   "name": "python",
   "nbconvert_exporter": "python",
   "pygments_lexer": "ipython3",
   "version": "3.11.5"
  }
 },
 "nbformat": 4,
 "nbformat_minor": 5
}
